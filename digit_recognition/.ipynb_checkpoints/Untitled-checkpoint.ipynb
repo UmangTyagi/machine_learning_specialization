{
 "cells": [
  {
   "cell_type": "code",
   "execution_count": 2,
   "id": "8639aada",
   "metadata": {},
   "outputs": [],
   "source": [
    "import os\n",
    "import random\n",
    "import matplotlib.pyplot as plt\n",
    "import matplotlib.image as mpimg"
   ]
  },
  {
   "cell_type": "code",
   "execution_count": 3,
   "id": "3bc94a3d",
   "metadata": {},
   "outputs": [],
   "source": [
    "def plot_random_images(data_dir):\n",
    "    fig,ax = plt.subplots(10,5, figsize=(40,15))\n",
    "\n",
    "    for digit in range(10):\n",
    "\n",
    "        # directory for each digit's dataset\n",
    "        digit_dir = os.path.join(data_dir,str(digit))\n",
    "\n",
    "        # make a filelist of images\n",
    "        filelist = [image for image in os.listdir(digit_dir) if image.endswith('.jpg')]\n",
    "\n",
    "        # pick 5 random images\n",
    "        random_images = random.sample(filelist, 5)\n",
    "\n",
    "        # display images\n",
    "        for i,image_name in enumerate(random_images):\n",
    "\n",
    "            image_path = os.path.join(digit_dir, image_name)\n",
    "            img = mpimg.imread(image_path)\n",
    "\n",
    "            ax[digit,i].imshow(img)\n",
    "            ax[digit,i].set_title(image_name)\n",
    "            ax[digit,i].axis('off')\n",
    "\n",
    "    plt.tight_layout()\n",
    "    plt.show()"
   ]
  },
  {
   "cell_type": "code",
   "execution_count": null,
   "id": "c21bf2a4",
   "metadata": {},
   "outputs": [],
   "source": []
  }
 ],
 "metadata": {
  "kernelspec": {
   "display_name": "Python 3 (ipykernel)",
   "language": "python",
   "name": "python3"
  },
  "language_info": {
   "codemirror_mode": {
    "name": "ipython",
    "version": 3
   },
   "file_extension": ".py",
   "mimetype": "text/x-python",
   "name": "python",
   "nbconvert_exporter": "python",
   "pygments_lexer": "ipython3",
   "version": "3.7.9"
  }
 },
 "nbformat": 4,
 "nbformat_minor": 5
}
